{
 "cells": [
  {
   "cell_type": "markdown",
   "metadata": {},
   "source": [
    "# Chargement et analyse de prix de maisons sur un cluster Spark"
   ]
  },
  {
   "cell_type": "markdown",
   "metadata": {},
   "source": [
    "## Preparation de l'environnement Spark"
   ]
  },
  {
   "cell_type": "code",
   "execution_count": 1,
   "metadata": {},
   "outputs": [],
   "source": [
    "import os\n",
    "import sys\n",
    "\n",
    "os.environ['PYSPARK_PYTHON'] = sys.executable\n",
    "os.environ['PYSPARK_DRIVER_PYTHON'] = sys.executable"
   ]
  },
  {
   "cell_type": "code",
   "execution_count": 2,
   "metadata": {},
   "outputs": [],
   "source": [
    "import findspark\n",
    "findspark.init() "
   ]
  },
  {
   "cell_type": "code",
   "execution_count": 3,
   "metadata": {},
   "outputs": [],
   "source": [
    "import pyspark\n",
    "\n",
    "number_cores = 8\n",
    "memory_gb = 24\n",
    "conf = (\n",
    "    pyspark.SparkConf()\n",
    "        .setMaster('local[{}]'.format(number_cores))\n",
    "        .set('spark.driver.memory', '{}g'.format(memory_gb))\n",
    ")\n",
    "sc = pyspark.SparkContext(conf=conf)"
   ]
  },
  {
   "cell_type": "code",
   "execution_count": 4,
   "metadata": {},
   "outputs": [],
   "source": [
    "from pyspark.sql import *\n",
    "spark = SparkSession.builder.master(\"local[1]\").appName(\"SparkByExamples.com\").getOrCreate()"
   ]
  },
  {
   "cell_type": "code",
   "execution_count": 5,
   "metadata": {
    "application/vnd.databricks.v1+cell": {
     "inputWidgets": {},
     "nuid": "3213b3e1-a764-4974-8ce7-67049af576c1",
     "showTitle": false,
     "title": ""
    }
   },
   "outputs": [],
   "source": [
    "df = spark.read.csv(\"houses.csv\")"
   ]
  },
  {
   "cell_type": "markdown",
   "metadata": {},
   "source": [
    "## Renommage des colonnes"
   ]
  },
  {
   "cell_type": "code",
   "execution_count": 6,
   "metadata": {
    "application/vnd.databricks.v1+cell": {
     "inputWidgets": {},
     "nuid": "e397e571-086f-403d-a5eb-fda0705a5686",
     "showTitle": false,
     "title": ""
    }
   },
   "outputs": [],
   "source": [
    "df = df.selectExpr(\"_c0 as size\", \"_c1 as nb_rooms\",\"_c2 as garden\",\"_c3 as orientation\",\"_c4 as price\")\n"
   ]
  },
  {
   "cell_type": "markdown",
   "metadata": {},
   "source": [
    "## Conversions de  types"
   ]
  },
  {
   "cell_type": "code",
   "execution_count": 7,
   "metadata": {
    "application/vnd.databricks.v1+cell": {
     "inputWidgets": {},
     "nuid": "3d59a558-b6dd-47ac-9036-90b5756d42bb",
     "showTitle": false,
     "title": ""
    }
   },
   "outputs": [],
   "source": [
    "df = df.withColumn(\"nb_rooms\", df[\"nb_rooms\"].cast(\"int\"))\n",
    "df = df.withColumn(\"price\", df[\"price\"].cast(\"double\"))\n",
    "df = df.withColumn(\"garden\", df[\"garden\"].cast(\"boolean\"))\n",
    "df = df.withColumn(\"size\", df[\"size\"].cast(\"double\"))"
   ]
  },
  {
   "cell_type": "markdown",
   "metadata": {},
   "source": [
    "## Affichages"
   ]
  },
  {
   "cell_type": "code",
   "execution_count": 8,
   "metadata": {
    "application/vnd.databricks.v1+cell": {
     "inputWidgets": {},
     "nuid": "56ca0b35-6299-4bec-bc0f-98a31cd112ed",
     "showTitle": false,
     "title": ""
    }
   },
   "outputs": [],
   "source": [
    "df.createOrReplaceTempView(\"houses\")\n"
   ]
  },
  {
   "cell_type": "markdown",
   "metadata": {},
   "source": [
    "### Prix moyen par nombre de chambres"
   ]
  },
  {
   "cell_type": "code",
   "execution_count": 9,
   "metadata": {
    "application/vnd.databricks.v1+cell": {
     "inputWidgets": {},
     "nuid": "decbdafd-96a3-4d4c-a71d-4e15f6910c99",
     "showTitle": false,
     "title": ""
    }
   },
   "outputs": [
    {
     "data": {
      "text/plain": [
       "DataFrame[nb_rooms: int, avg(price): double]"
      ]
     },
     "metadata": {},
     "output_type": "display_data"
    }
   ],
   "source": [
    "display(spark.sql(\"SELECT nb_rooms,avg(price) FROM houses group by nb_rooms \"))"
   ]
  },
  {
   "cell_type": "markdown",
   "metadata": {},
   "source": [
    "### Prix moyen par orientation(Nord, Sud, Est,Ouest)"
   ]
  },
  {
   "cell_type": "code",
   "execution_count": 10,
   "metadata": {
    "application/vnd.databricks.v1+cell": {
     "inputWidgets": {},
     "nuid": "bbfc2a7c-bcc4-4af9-a8ce-4acaf86b9034",
     "showTitle": false,
     "title": ""
    }
   },
   "outputs": [
    {
     "data": {
      "text/plain": [
       "DataFrame[orientation: string, avg(price): double]"
      ]
     },
     "metadata": {},
     "output_type": "display_data"
    }
   ],
   "source": [
    "display(spark.sql(\"SELECT orientation,avg(price) FROM houses group by orientation \"))"
   ]
  },
  {
   "cell_type": "markdown",
   "metadata": {},
   "source": [
    "### Prix moyen selon la présence d'un jardin"
   ]
  },
  {
   "cell_type": "code",
   "execution_count": 11,
   "metadata": {
    "application/vnd.databricks.v1+cell": {
     "inputWidgets": {},
     "nuid": "44d71069-d045-421a-8efb-59dffefdf406",
     "showTitle": false,
     "title": ""
    }
   },
   "outputs": [
    {
     "data": {
      "text/plain": [
       "DataFrame[garden: boolean, avg(price): double]"
      ]
     },
     "metadata": {},
     "output_type": "display_data"
    }
   ],
   "source": [
    "display(spark.sql(\"SELECT garden,avg(price) FROM houses group by garden \"))"
   ]
  },
  {
   "cell_type": "markdown",
   "metadata": {},
   "source": [
    " ### Corrélation entre prix et taille des maisons"
   ]
  },
  {
   "cell_type": "code",
   "execution_count": 12,
   "metadata": {
    "application/vnd.databricks.v1+cell": {
     "inputWidgets": {},
     "nuid": "80bc59a8-7178-480b-bc45-f32f84cdd433",
     "showTitle": false,
     "title": ""
    }
   },
   "outputs": [
    {
     "data": {
      "text/plain": [
       "DataFrame[size: double, price: double]"
      ]
     },
     "metadata": {},
     "output_type": "display_data"
    }
   ],
   "source": [
    "display(spark.sql(\"SELECT size,price FROM houses order by price \"))"
   ]
  },
  {
   "cell_type": "markdown",
   "metadata": {},
   "source": [
    "### Filtre des maisons de plus de 2 chambres"
   ]
  },
  {
   "cell_type": "code",
   "execution_count": 13,
   "metadata": {},
   "outputs": [],
   "source": [
    "more_2_rooms=df.filter(df.nb_rooms>= 2)"
   ]
  },
  {
   "cell_type": "code",
   "execution_count": 14,
   "metadata": {},
   "outputs": [
    {
     "name": "stdout",
     "output_type": "stream",
     "text": [
      "+-------+--------------------+------------------+-----------+------------------+\n",
      "|summary|                size|          nb_rooms|orientation|             price|\n",
      "+-------+--------------------+------------------+-----------+------------------+\n",
      "|  count|            66656777|          66656777|   66656777|          66656777|\n",
      "|   mean|  150.03015945270818|2.5000093238831513|       null|277154.00704793504|\n",
      "| stddev|  49.881609517985765|0.5000000036636225|       null| 35747.05594084833|\n",
      "|    min|4.878437778188527E-5|                 2|        Est| 82.00769678005963|\n",
      "|    max|  423.18622475256666|                 3|        Sud|380365.10005544615|\n",
      "+-------+--------------------+------------------+-----------+------------------+\n",
      "\n"
     ]
    }
   ],
   "source": [
    "more_2_rooms.describe().show()\n"
   ]
  },
  {
   "cell_type": "markdown",
   "metadata": {
    "application/vnd.databricks.v1+cell": {
     "inputWidgets": {},
     "nuid": "b2dda9d9-cfe6-4de0-a109-2cd13e5d7f9d",
     "showTitle": false,
     "title": ""
    }
   },
   "source": [
    "## Pipeline for Machine learning"
   ]
  },
  {
   "cell_type": "code",
   "execution_count": 15,
   "metadata": {},
   "outputs": [],
   "source": [
    "from pyspark.ml.linalg import Vectors\n",
    "from pyspark.ml.feature import VectorAssembler"
   ]
  },
  {
   "cell_type": "code",
   "execution_count": 16,
   "metadata": {},
   "outputs": [],
   "source": [
    "assembler = VectorAssembler(\n",
    "    inputCols=[\"size\"],\n",
    "    outputCol=\"size_vector\").setHandleInvalid(\"skip\")"
   ]
  },
  {
   "cell_type": "code",
   "execution_count": 17,
   "metadata": {},
   "outputs": [],
   "source": [
    "from pyspark.ml.feature import Normalizer"
   ]
  },
  {
   "cell_type": "code",
   "execution_count": 18,
   "metadata": {},
   "outputs": [],
   "source": [
    "normalizer=Normalizer(inputCol=\"size_vector\",outputCol=\"size_vector_normalized\",p=1.0)"
   ]
  },
  {
   "cell_type": "code",
   "execution_count": 27,
   "metadata": {},
   "outputs": [],
   "source": [
    "from pyspark.ml.feature import StringIndexer\n",
    "indexer = StringIndexer(inputCol=\"orientation\", outputCol=\"orientation_index\")"
   ]
  },
  {
   "cell_type": "code",
   "execution_count": 19,
   "metadata": {},
   "outputs": [],
   "source": [
    "from pyspark.ml.feature import OneHotEncoder"
   ]
  },
  {
   "cell_type": "code",
   "execution_count": 20,
   "metadata": {},
   "outputs": [],
   "source": [
    "encoder = OneHotEncoder(inputCols=[\"orientation_index\"],\n",
    "                        outputCols=[\"orientation_encoding\"])"
   ]
  },
  {
   "cell_type": "code",
   "execution_count": 21,
   "metadata": {},
   "outputs": [],
   "source": [
    "feature_assembler = VectorAssembler(\n",
    "    inputCols=[\"size_vector_normalized\",\"nb_rooms\",\"garden\",\"orientation_encoding\"],\n",
    "    outputCol=\"features\")"
   ]
  },
  {
   "cell_type": "code",
   "execution_count": 22,
   "metadata": {},
   "outputs": [],
   "source": [
    "from pyspark.ml.regression import LinearRegression"
   ]
  },
  {
   "cell_type": "code",
   "execution_count": 23,
   "metadata": {},
   "outputs": [
    {
     "data": {
      "text/plain": [
       "LinearRegression_84479b530832"
      ]
     },
     "execution_count": 23,
     "metadata": {},
     "output_type": "execute_result"
    }
   ],
   "source": [
    "lr = LinearRegression(maxIter=10, regParam=0.3, elasticNetParam=0.8)\n",
    "lr.setLabelCol(\"price\")\n",
    "lr.setFeaturesCol(\"features\")"
   ]
  },
  {
   "cell_type": "code",
   "execution_count": 28,
   "metadata": {},
   "outputs": [],
   "source": [
    "from pyspark.ml import Pipeline\n",
    "pipeline = Pipeline(stages=[assembler, normalizer,indexer,encoder,feature_assembler,lr])"
   ]
  },
  {
   "cell_type": "markdown",
   "metadata": {},
   "source": [
    "### Création du modèle"
   ]
  },
  {
   "cell_type": "code",
   "execution_count": 29,
   "metadata": {},
   "outputs": [],
   "source": [
    "lrModel = pipeline.fit(df)"
   ]
  },
  {
   "cell_type": "code",
   "execution_count": 31,
   "metadata": {},
   "outputs": [
    {
     "ename": "AnalysisException",
     "evalue": "Path does not exist: file:/home/ngoupandecedric/houses2.csv;",
     "output_type": "error",
     "traceback": [
      "\u001b[0;31m---------------------------------------------------------------------------\u001b[0m",
      "\u001b[0;31mAnalysisException\u001b[0m                         Traceback (most recent call last)",
      "\u001b[0;32m<ipython-input-31-b771811643b6>\u001b[0m in \u001b[0;36m<module>\u001b[0;34m\u001b[0m\n\u001b[0;32m----> 1\u001b[0;31m \u001b[0mtest\u001b[0m\u001b[0;34m=\u001b[0m\u001b[0mspark\u001b[0m\u001b[0;34m.\u001b[0m\u001b[0mread\u001b[0m\u001b[0;34m.\u001b[0m\u001b[0mcsv\u001b[0m\u001b[0;34m(\u001b[0m\u001b[0;34m\"houses2.csv\"\u001b[0m\u001b[0;34m)\u001b[0m\u001b[0;34m\u001b[0m\u001b[0;34m\u001b[0m\u001b[0m\n\u001b[0m",
      "\u001b[0;32m/opt/spark/python/pyspark/sql/readwriter.py\u001b[0m in \u001b[0;36mcsv\u001b[0;34m(self, path, schema, sep, encoding, quote, escape, comment, header, inferSchema, ignoreLeadingWhiteSpace, ignoreTrailingWhiteSpace, nullValue, nanValue, positiveInf, negativeInf, dateFormat, timestampFormat, maxColumns, maxCharsPerColumn, maxMalformedLogPerPartition, mode, columnNameOfCorruptRecord, multiLine, charToEscapeQuoteEscaping, samplingRatio, enforceSchema, emptyValue, locale, lineSep, pathGlobFilter, recursiveFileLookup)\u001b[0m\n\u001b[1;32m    536\u001b[0m             \u001b[0mpath\u001b[0m \u001b[0;34m=\u001b[0m \u001b[0;34m[\u001b[0m\u001b[0mpath\u001b[0m\u001b[0;34m]\u001b[0m\u001b[0;34m\u001b[0m\u001b[0;34m\u001b[0m\u001b[0m\n\u001b[1;32m    537\u001b[0m         \u001b[0;32mif\u001b[0m \u001b[0mtype\u001b[0m\u001b[0;34m(\u001b[0m\u001b[0mpath\u001b[0m\u001b[0;34m)\u001b[0m \u001b[0;34m==\u001b[0m \u001b[0mlist\u001b[0m\u001b[0;34m:\u001b[0m\u001b[0;34m\u001b[0m\u001b[0;34m\u001b[0m\u001b[0m\n\u001b[0;32m--> 538\u001b[0;31m             \u001b[0;32mreturn\u001b[0m \u001b[0mself\u001b[0m\u001b[0;34m.\u001b[0m\u001b[0m_df\u001b[0m\u001b[0;34m(\u001b[0m\u001b[0mself\u001b[0m\u001b[0;34m.\u001b[0m\u001b[0m_jreader\u001b[0m\u001b[0;34m.\u001b[0m\u001b[0mcsv\u001b[0m\u001b[0;34m(\u001b[0m\u001b[0mself\u001b[0m\u001b[0;34m.\u001b[0m\u001b[0m_spark\u001b[0m\u001b[0;34m.\u001b[0m\u001b[0m_sc\u001b[0m\u001b[0;34m.\u001b[0m\u001b[0m_jvm\u001b[0m\u001b[0;34m.\u001b[0m\u001b[0mPythonUtils\u001b[0m\u001b[0;34m.\u001b[0m\u001b[0mtoSeq\u001b[0m\u001b[0;34m(\u001b[0m\u001b[0mpath\u001b[0m\u001b[0;34m)\u001b[0m\u001b[0;34m)\u001b[0m\u001b[0;34m)\u001b[0m\u001b[0;34m\u001b[0m\u001b[0;34m\u001b[0m\u001b[0m\n\u001b[0m\u001b[1;32m    539\u001b[0m         \u001b[0;32melif\u001b[0m \u001b[0misinstance\u001b[0m\u001b[0;34m(\u001b[0m\u001b[0mpath\u001b[0m\u001b[0;34m,\u001b[0m \u001b[0mRDD\u001b[0m\u001b[0;34m)\u001b[0m\u001b[0;34m:\u001b[0m\u001b[0;34m\u001b[0m\u001b[0;34m\u001b[0m\u001b[0m\n\u001b[1;32m    540\u001b[0m             \u001b[0;32mdef\u001b[0m \u001b[0mfunc\u001b[0m\u001b[0;34m(\u001b[0m\u001b[0miterator\u001b[0m\u001b[0;34m)\u001b[0m\u001b[0;34m:\u001b[0m\u001b[0;34m\u001b[0m\u001b[0;34m\u001b[0m\u001b[0m\n",
      "\u001b[0;32m/opt/spark/python/lib/py4j-0.10.9-src.zip/py4j/java_gateway.py\u001b[0m in \u001b[0;36m__call__\u001b[0;34m(self, *args)\u001b[0m\n\u001b[1;32m   1303\u001b[0m         \u001b[0manswer\u001b[0m \u001b[0;34m=\u001b[0m \u001b[0mself\u001b[0m\u001b[0;34m.\u001b[0m\u001b[0mgateway_client\u001b[0m\u001b[0;34m.\u001b[0m\u001b[0msend_command\u001b[0m\u001b[0;34m(\u001b[0m\u001b[0mcommand\u001b[0m\u001b[0;34m)\u001b[0m\u001b[0;34m\u001b[0m\u001b[0;34m\u001b[0m\u001b[0m\n\u001b[1;32m   1304\u001b[0m         return_value = get_return_value(\n\u001b[0;32m-> 1305\u001b[0;31m             answer, self.gateway_client, self.target_id, self.name)\n\u001b[0m\u001b[1;32m   1306\u001b[0m \u001b[0;34m\u001b[0m\u001b[0m\n\u001b[1;32m   1307\u001b[0m         \u001b[0;32mfor\u001b[0m \u001b[0mtemp_arg\u001b[0m \u001b[0;32min\u001b[0m \u001b[0mtemp_args\u001b[0m\u001b[0;34m:\u001b[0m\u001b[0;34m\u001b[0m\u001b[0;34m\u001b[0m\u001b[0m\n",
      "\u001b[0;32m/opt/spark/python/pyspark/sql/utils.py\u001b[0m in \u001b[0;36mdeco\u001b[0;34m(*a, **kw)\u001b[0m\n\u001b[1;32m    132\u001b[0m                 \u001b[0;31m# Hide where the exception came from that shows a non-Pythonic\u001b[0m\u001b[0;34m\u001b[0m\u001b[0;34m\u001b[0m\u001b[0;34m\u001b[0m\u001b[0m\n\u001b[1;32m    133\u001b[0m                 \u001b[0;31m# JVM exception message.\u001b[0m\u001b[0;34m\u001b[0m\u001b[0;34m\u001b[0m\u001b[0;34m\u001b[0m\u001b[0m\n\u001b[0;32m--> 134\u001b[0;31m                 \u001b[0mraise_from\u001b[0m\u001b[0;34m(\u001b[0m\u001b[0mconverted\u001b[0m\u001b[0;34m)\u001b[0m\u001b[0;34m\u001b[0m\u001b[0;34m\u001b[0m\u001b[0m\n\u001b[0m\u001b[1;32m    135\u001b[0m             \u001b[0;32melse\u001b[0m\u001b[0;34m:\u001b[0m\u001b[0;34m\u001b[0m\u001b[0;34m\u001b[0m\u001b[0m\n\u001b[1;32m    136\u001b[0m                 \u001b[0;32mraise\u001b[0m\u001b[0;34m\u001b[0m\u001b[0;34m\u001b[0m\u001b[0m\n",
      "\u001b[0;32m/opt/spark/python/pyspark/sql/utils.py\u001b[0m in \u001b[0;36mraise_from\u001b[0;34m(e)\u001b[0m\n",
      "\u001b[0;31mAnalysisException\u001b[0m: Path does not exist: file:/home/ngoupandecedric/houses2.csv;"
     ]
    }
   ],
   "source": [
    "test=spark.read.csv(\"houses2.csv\")"
   ]
  },
  {
   "cell_type": "markdown",
   "metadata": {},
   "source": [
    "### Affichage des predictions"
   ]
  },
  {
   "cell_type": "code",
   "execution_count": 32,
   "metadata": {},
   "outputs": [],
   "source": [
    "#predictions=lrModel.transform(test)\n",
    "predictions=spark.read.csv(\"predictions.csv\")"
   ]
  },
  {
   "cell_type": "code",
   "execution_count": 33,
   "metadata": {},
   "outputs": [
    {
     "data": {
      "text/plain": [
       "[Row(_c0=None, _c1='size', _c2='nb_rooms', _c3='garden', _c4='orientation', _c5='price', _c6='orientation_index', _c7='size_vector', _c8='size_vector_normalized', _c9='orientation_encoding', _c10='features'),\n",
       " Row(_c0='0', _c1='154.83230012308735', _c2='1', _c3='False', _c4='Nord', _c5='207195.11934156134', _c6='3.0', _c7='[154.83230012308735]', _c8='[1.0]', _c9='(4,[3],[1.0])', _c10='(7,[0,1,6],[1.0,1.0,1.0])'),\n",
       " Row(_c0='1', _c1='92.77258540453674', _c2='2', _c3='True', _c4='Nord', _c5='254339.26460680345', _c6='3.0', _c7='[92.77258540453674]', _c8='[1.0]', _c9='(4,[3],[1.0])', _c10='[1.0,2.0,1.0,0.0,0.0,0.0,1.0]'),\n",
       " Row(_c0='2', _c1='157.49511991833157', _c2='1', _c3='False', _c4='Est', _c5='224957.5711658047', _c6='0.0', _c7='[157.49511991833157]', _c8='[1.0]', _c9='(4,[0],[1.0])', _c10='(7,[0,1,3],[1.0,1.0,1.0])'),\n",
       " Row(_c0='3', _c1='202.89541456241577', _c2='3', _c3='True', _c4='Sud', _c5='349292.323490081', _c6='2.0', _c7='[202.89541456241577]', _c8='[1.0]', _c9='(4,[2],[1.0])', _c10='[1.0,3.0,1.0,0.0,0.0,1.0,0.0]'),\n",
       " Row(_c0='4', _c1='103.99619443619756', _c2='2', _c3='True', _c4='Nord', _c5='259426.58477161673', _c6='3.0', _c7='[103.99619443619756]', _c8='[1.0]', _c9='(4,[3],[1.0])', _c10='[1.0,2.0,1.0,0.0,0.0,0.0,1.0]'),\n",
       " Row(_c0='5', _c1='123.86077768782623', _c2='2', _c3='False', _c4='Est', _c5='234223.9702141718', _c6='0.0', _c7='[123.86077768782623]', _c8='[1.0]', _c9='(4,[0],[1.0])', _c10='(7,[0,1,3],[1.0,2.0,1.0])'),\n",
       " Row(_c0='6', _c1='48.94506965238159', _c2='2', _c3='True', _c4='Ouest', _c5='246991.57075541656', _c6='1.0', _c7='[48.94506965238159]', _c8='[1.0]', _c9='(4,[1],[1.0])', _c10='[1.0,2.0,1.0,0.0,1.0,0.0,0.0]'),\n",
       " Row(_c0='7', _c1='125.12955070038896', _c2='1', _c3='True', _c4='Est', _c5='264678.9301504149', _c6='0.0', _c7='[125.12955070038896]', _c8='[1.0]', _c9='(4,[0],[1.0])', _c10='[1.0,1.0,1.0,1.0,0.0,0.0,0.0]'),\n",
       " Row(_c0='8', _c1='103.50776682201719', _c2='2', _c3='True', _c4='Est', _c5='276216.76265344', _c6='0.0', _c7='[103.50776682201719]', _c8='[1.0]', _c9='(4,[0],[1.0])', _c10='[1.0,2.0,1.0,1.0,0.0,0.0,0.0]'),\n",
       " Row(_c0='9', _c1='160.27643971722406', _c2='2', _c3='False', _c4='Nord', _c5='228740.3959262995', _c6='3.0', _c7='[160.27643971722406]', _c8='[1.0]', _c9='(4,[3],[1.0])', _c10='(7,[0,1,6],[1.0,2.0,1.0])'),\n",
       " Row(_c0='10', _c1='108.37851172694624', _c2='3', _c3='True', _c4='Nord', _c5='281266.6503121066', _c6='3.0', _c7='[108.37851172694624]', _c8='[1.0]', _c9='(4,[3],[1.0])', _c10='[1.0,3.0,1.0,0.0,0.0,0.0,1.0]'),\n",
       " Row(_c0='11', _c1='152.5140234599672', _c2='3', _c3='True', _c4='Sud', _c5='336520.6364404887', _c6='2.0', _c7='[152.5140234599672]', _c8='[1.0]', _c9='(4,[2],[1.0])', _c10='[1.0,3.0,1.0,0.0,0.0,1.0,0.0]'),\n",
       " Row(_c0='12', _c1='171.17533346855063', _c2='2', _c3='True', _c4='Sud', _c5='321683.1002203027', _c6='2.0', _c7='[171.17533346855063]', _c8='[1.0]', _c9='(4,[2],[1.0])', _c10='[1.0,2.0,1.0,0.0,0.0,1.0,0.0]'),\n",
       " Row(_c0='13', _c1='113.28115834638356', _c2='3', _c3='False', _c4='Nord', _c5='233239.77710069876', _c6='3.0', _c7='[113.28115834638356]', _c8='[1.0]', _c9='(4,[3],[1.0])', _c10='(7,[0,1,6],[1.0,3.0,1.0])'),\n",
       " Row(_c0='14', _c1='136.98308591990903', _c2='1', _c3='False', _c4='Sud', _c5='241720.9000331439', _c6='2.0', _c7='[136.98308591990903]', _c8='[1.0]', _c9='(4,[2],[1.0])', _c10='(7,[0,1,5],[1.0,1.0,1.0])'),\n",
       " Row(_c0='15', _c1='148.14650037455712', _c2='3', _c3='True', _c4='Ouest', _c5='316221.8071099452', _c6='1.0', _c7='[148.14650037455712]', _c8='[1.0]', _c9='(4,[1],[1.0])', _c10='[1.0,3.0,1.0,0.0,1.0,0.0,0.0]'),\n",
       " Row(_c0='16', _c1='63.22356115358971', _c2='2', _c3='False', _c4='Ouest', _c5='208306.65627890083', _c6='1.0', _c7='[63.22356115358971]', _c8='[1.0]', _c9='(4,[1],[1.0])', _c10='(7,[0,1,4],[1.0,2.0,1.0])'),\n",
       " Row(_c0='17', _c1='225.5543587398604', _c2='3', _c3='False', _c4='Nord', _c5='264034.32097544754', _c6='3.0', _c7='[225.5543587398604]', _c8='[1.0]', _c9='(4,[3],[1.0])', _c10='(7,[0,1,6],[1.0,3.0,1.0])'),\n",
       " Row(_c0='18', _c1='108.42567771887944', _c2='2', _c3='True', _c4='Est', _c5='278286.0509431022', _c6='0.0', _c7='[108.42567771887944]', _c8='[1.0]', _c9='(4,[0],[1.0])', _c10='[1.0,2.0,1.0,1.0,0.0,0.0,0.0]')]"
      ]
     },
     "execution_count": 33,
     "metadata": {},
     "output_type": "execute_result"
    }
   ],
   "source": [
    "predictions.head(20)"
   ]
  },
  {
   "cell_type": "code",
   "execution_count": null,
   "metadata": {},
   "outputs": [],
   "source": []
  }
 ],
 "metadata": {
  "application/vnd.databricks.v1+notebook": {
   "dashboards": [
    {
     "elements": [
      {
       "elementNUID": "bbfc2a7c-bcc4-4af9-a8ce-4acaf86b9034",
       "elementType": "command",
       "guid": "0c58c844-8514-435f-9e66-e160dc8f83f6",
       "options": null,
       "position": {
        "height": 6,
        "width": 12,
        "x": 0,
        "y": 0,
        "z": null
       }
      },
      {
       "elementNUID": "80bc59a8-7178-480b-bc45-f32f84cdd433",
       "elementType": "command",
       "guid": "30477333-3685-4435-a244-9970561319fb",
       "options": null,
       "position": {
        "height": 6,
        "width": 12,
        "x": 12,
        "y": 0,
        "z": null
       }
      },
      {
       "elementNUID": "44d71069-d045-421a-8efb-59dffefdf406",
       "elementType": "command",
       "guid": "33e32b56-3c8e-40af-b675-d7b40c470c53",
       "options": null,
       "position": {
        "height": 6,
        "width": 12,
        "x": 0,
        "y": 6,
        "z": null
       }
      },
      {
       "elementNUID": "decbdafd-96a3-4d4c-a71d-4e15f6910c99",
       "elementType": "command",
       "guid": "eae0d4c9-2089-4762-a405-3f9422088d1c",
       "options": null,
       "position": {
        "height": 6,
        "width": 12,
        "x": 12,
        "y": 6,
        "z": null
       }
      }
     ],
     "globalVars": {},
     "guid": "eeb3d880-fc0a-4006-9e9b-d4e733361e30",
     "layoutOption": {
      "grid": true,
      "stack": true
     },
     "nuid": "baab8b9b-bdd9-42b9-9b97-c3ab3ce6a386",
     "origId": 4474406064839205,
     "title": "Dashboard houses",
     "version": "DashboardViewV1",
     "width": 1024
    }
   ],
   "language": "python",
   "notebookMetadata": {
    "pythonIndentUnit": 2
   },
   "notebookName": "Projet Spark",
   "notebookOrigID": 4474406064839202,
   "widgets": {}
  },
  "kernelspec": {
   "display_name": "Python 3",
   "language": "python",
   "name": "python3"
  },
  "language_info": {
   "codemirror_mode": {
    "name": "ipython",
    "version": 3
   },
   "file_extension": ".py",
   "mimetype": "text/x-python",
   "name": "python",
   "nbconvert_exporter": "python",
   "pygments_lexer": "ipython3",
   "version": "3.7.3"
  }
 },
 "nbformat": 4,
 "nbformat_minor": 1
}
